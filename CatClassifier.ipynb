{
 "cells": [
  {
   "cell_type": "code",
   "execution_count": 1,
   "metadata": {},
   "outputs": [],
   "source": [
    "import sys\n",
    "import numpy as np\n",
    "import matplotlib.pyplot as plt\n",
    "import time\n",
    "import h5py"
   ]
  },
  {
   "cell_type": "code",
   "execution_count": 2,
   "metadata": {},
   "outputs": [
    {
     "name": "stdout",
     "output_type": "stream",
     "text": [
      "(12288, 209)\n",
      "(1, 209)\n"
     ]
    }
   ],
   "source": [
    "def load_dataset(): \n",
    "    train_dataset = h5py.File('train_catvnoncat.h5', 'r')\n",
    "    train_set_x = np.array(train_dataset[\"train_set_x\"])\n",
    "    train_set_y = np.array(train_dataset[\"train_set_y\"])\n",
    "    train_set_classes = np.array(train_dataset[\"list_classes\"])\n",
    "    return train_set_x, train_set_y, train_set_classes\n",
    "X, y, classes = load_dataset()\n",
    "m_train= len(y)\n",
    "# Flatten the matrix into a (64*64*3, m) matrix\n",
    "X_flatten = X.reshape(64*64*3, m_train)\n",
    "# Get the number of features \n",
    "num_features = X_flatten.shape[0]\n",
    "\n",
    "# Fix the shape of y\n",
    "y = y.reshape(1, m_train)\n",
    "\n",
    "# Standardize the data\n",
    "X_flatten = X_flatten/255\n",
    "print(X_flatten.shape)\n",
    "print(y.shape)"
   ]
  },
  {
   "cell_type": "code",
   "execution_count": 3,
   "metadata": {},
   "outputs": [],
   "source": [
    "def sigmoid(z):\n",
    "    # Returns the sigmoid of the input \n",
    "    return 1/(1 + np.exp(-z))"
   ]
  },
  {
   "cell_type": "code",
   "execution_count": 4,
   "metadata": {},
   "outputs": [],
   "source": [
    "def propagate(X, y, parameters): \n",
    "    epsilon = 1e-5\n",
    "    m = X.shape[1]\n",
    "    # Compute results of first layer\n",
    "    predictions = sigmoid(np.dot(parameters['w1'].transpose(), X) + parameters['b1'])\n",
    "    # Get the errors in the prediction\n",
    "    error = -(y * np.log(predictions + epsilon) +  (1-y) * np.log(1-predictions+epsilon))\n",
    "    # Compute the cost of the prediction\n",
    "    cost = 1/m * np.sum(error, axis=1)\n",
    "    # Calculate the gradient\n",
    "    grad_w = 1/m * np.dot(X, (predictions-y).transpose())\n",
    "    grad_b = 1/m * np.sum(predictions-y, axis=1)\n",
    "    grad = {\n",
    "        'dw': grad_w,\n",
    "        'db': grad_b\n",
    "    }\n",
    "    return  cost[0], grad\n",
    "    "
   ]
  },
  {
   "cell_type": "code",
   "execution_count": 5,
   "metadata": {},
   "outputs": [],
   "source": [
    "def optimize(X, y, parameters, num_iters, alpha, printCost):\n",
    "    J_hist = []\n",
    "    for i in range(num_iters): \n",
    "        cost, grad = propagate(X, y, parameters)\n",
    "        parameters['w1'] = parameters['w1'] - (alpha * grad['dw'])\n",
    "        parameters['b1'] = parameters['b1'] - (alpha * grad['db'])\n",
    "        if i%100 == 0: \n",
    "            J_hist.append(cost)\n",
    "            if printCost:\n",
    "                print(f'Cost at iteration {i}: {cost}')\n",
    "            \n",
    "    return parameters, J_hist"
   ]
  },
  {
   "cell_type": "code",
   "execution_count": 6,
   "metadata": {},
   "outputs": [],
   "source": [
    "def model (X, y, num_iters, alpha, printCost, plotCost = False): \n",
    "    # Start sanity check \n",
    "    tic = time.time()\n",
    "    # Initialize parameters\n",
    "    w1 = np.zeros((X.shape[0], 1))\n",
    "    b1 = 0\n",
    "    parameters = {\n",
    "        'w1': w1, \n",
    "        'b1': b1\n",
    "    }\n",
    "    parameters, J_hist = optimize(X, y, parameters, num_iters, alpha, printCost)\n",
    "    # End sanity check \n",
    "    toc = time.time()\n",
    "    print('Final Cost is:', J_hist[-1])\n",
    "    print('Time taken to train is: ' + str(toc-tic) + 's')\n",
    "    \n",
    "    d = {\n",
    "        \"cost\": J_hist, \n",
    "        \"parameters\": parameters, \n",
    "        \"learning_rate\": alpha\n",
    "    }\n",
    "    \n",
    "    if plotCost is True: \n",
    "        plt.plot(J_hist)\n",
    "        plt.xlabel('Iterations (Per hundred)')\n",
    "        plt.ylabel('$ J(\\Theta)$')\n",
    "        plt.show()\n",
    "    \n",
    "    return d"
   ]
  },
  {
   "cell_type": "code",
   "execution_count": 7,
   "metadata": {},
   "outputs": [
    {
     "name": "stdout",
     "output_type": "stream",
     "text": [
      "Final Cost is: 0.3326495918418919\n",
      "Time taken to train is: 67.01410865783691s\n"
     ]
    },
    {
     "data": {
      "image/png": "[encoded data removed]",
      "text/plain": [
       "<Figure size 432x288 with 1 Axes>"
      ]
     },
     "metadata": {
      "needs_background": "light"
     },
     "output_type": "display_data"
    },
    {
     "name": "stdout",
     "output_type": "stream",
     "text": [
      "Final cost is: 0.3326495918418919\n"
     ]
    }
   ],
   "source": [
    "d = model(X_flatten, y, 2000, 0.005, False, True)\n",
    "print('Final cost is:', d[\"cost\"][-1])"
   ]
  },
  {
   "cell_type": "code",
   "execution_count": 9,
   "metadata": {},
   "outputs": [
    {
     "name": "stdout",
     "output_type": "stream",
     "text": [
      "\n",
      "-------------------------------------------------------\n",
      "\n",
      "Final Cost is: 1.7044805127374603\n",
      "Time taken to train is: 70.73949480056763s\n",
      "\n",
      "-------------------------------------------------------\n",
      "\n",
      "\n",
      "-------------------------------------------------------\n",
      "\n",
      "Final Cost is: 0.3326495918418919\n",
      "Time taken to train is: 70.99969935417175s\n",
      "\n",
      "-------------------------------------------------------\n",
      "\n",
      "\n",
      "-------------------------------------------------------\n",
      "\n",
      "Final Cost is: 0.48603365709801327\n",
      "Time taken to train is: 66.8025279045105s\n",
      "\n",
      "-------------------------------------------------------\n",
      "\n",
      "\n",
      "-------------------------------------------------------\n",
      "\n",
      "Final Cost is: 0.5912931946464092\n",
      "Time taken to train is: 107.99647212028503s\n",
      "\n",
      "-------------------------------------------------------\n",
      "\n"
     ]
    },
    {
     "data": {
      "image/png": "[encoded data removed]",
      "text/plain": [
       "<Figure size 432x288 with 1 Axes>"
      ]
     },
     "metadata": {
      "needs_background": "light"
     },
     "output_type": "display_data"
    }
   ],
   "source": [
    "# Show variation between different learning rates\n",
    "learning_rates = [0.05, 0.005, 0.001, 0.0001]\n",
    "costs = {}\n",
    "for i, v in enumerate(learning_rates): \n",
    "    print('\\n' + \"-------------------------------------------------------\" + '\\n')\n",
    "    d = model(X_flatten, y, 2000, v, False, False)\n",
    "    costs[i] = d\n",
    "    print('\\n' + \"-------------------------------------------------------\" + '\\n')    \n",
    "for i in range(len(learning_rates)): \n",
    "    plt.plot(costs[i][\"cost\"], label = costs[i][\"learning_rate\"])\n",
    "plt.xlabel('Iteration (hundred)')\n",
    "plt.ylabel('$ J(\\Theta)')\n",
    "plt.title('Cost variation with learning rate')\n",
    "plt.show()"
   ]
  },
  {
   "cell_type": "code",
   "execution_count": null,
   "metadata": {},
   "outputs": [],
   "source": []
  }
 ],
 "metadata": {
  "kernelspec": {
   "display_name": "Python 3",
   "language": "python",
   "name": "python3"
  },
  "language_info": {
   "codemirror_mode": {
    "name": "ipython",
    "version": 3
   },
   "file_extension": ".py",
   "mimetype": "text/x-python",
   "name": "python",
   "nbconvert_exporter": "python",
   "pygments_lexer": "ipython3",
   "version": "3.6.10"
  }
 },
 "nbformat": 4,
 "nbformat_minor": 4
}
